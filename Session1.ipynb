{
  "nbformat": 4,
  "nbformat_minor": 0,
  "metadata": {
    "colab": {
      "provenance": [],
      "toc_visible": true,
      "authorship_tag": "ABX9TyO8rTuxB0we3t2BDewLVRTB",
      "include_colab_link": true
    },
    "kernelspec": {
      "name": "python3",
      "display_name": "Python 3"
    },
    "language_info": {
      "name": "python"
    }
  },
  "cells": [
    {
      "cell_type": "markdown",
      "metadata": {
        "id": "view-in-github",
        "colab_type": "text"
      },
      "source": [
        "<a href=\"https://colab.research.google.com/github/skashyapsri/Applied-Mathematics-for-Engineers/blob/main/Session1.ipynb\" target=\"_parent\"><img src=\"https://colab.research.google.com/assets/colab-badge.svg\" alt=\"Open In Colab\"/></a>"
      ]
    },
    {
      "cell_type": "markdown",
      "source": [
        "# Session 1: Introduction to Python for Engineers"
      ],
      "metadata": {
        "id": "KCCKOwTjSuFI"
      }
    },
    {
      "cell_type": "markdown",
      "source": [
        "## Table of Contents\n",
        "1. Python Basics and Mathematical Data Types\n",
        "2. Functions and Scientific Calculations\n",
        "3. Classes for Mathematical and Physical Modeling\n",
        "4. Data Analysis and Visualization with the Boston Housing Dataset\n",
        "5. Advanced Plotting and Mathematical Physics Examples\n",
        "6. Conclusion and Further Resources"
      ],
      "metadata": {
        "id": "HxqDGaC7S2UZ"
      }
    },
    {
      "cell_type": "markdown",
      "source": [
        "## 1. Python Basics and Mathematical Data Types\n"
      ],
      "metadata": {
        "id": "AdcnXEkkTaLG"
      }
    },
    {
      "cell_type": "markdown",
      "source": [
        "### 1.1 Variables and Basic Data Types\n",
        "\n",
        "In mathematics and physics, we often deal with different types of numbers and quantities. Python provides various data types to represent these:\n",
        "\n",
        "- Integers (int): Whole numbers, e.g., atomic numbers in chemistry\n",
        "- Floating-point numbers (float): Real numbers, e.g., physical constants\n",
        "- Complex numbers (complex): Numbers with real and imaginary parts, e.g., in electrical engineering\n",
        "- Strings (str): Text data, e.g., for labeling\n",
        "- Booleans (bool): True/False values, e.g., in logical operations\n"
      ],
      "metadata": {
        "id": "b3KCR-e8byvR"
      }
    },
    {
      "cell_type": "markdown",
      "source": [
        "#### **Mathematical Background**\n",
        "In mathematics, we often work with different number sets:\n",
        "- ℕ (Natural numbers): {1, 2, 3, ...}\n",
        "- ℤ (Integers): {..., -2, -1, 0, 1, 2, ...}\n",
        "- ℚ (Rational numbers): Numbers that can be expressed as fractions\n",
        "- ℝ (Real numbers): All numbers on the number line\n",
        "- ℂ (Complex numbers): Numbers in the form a + bi, where i² = -1\n",
        "\n",
        "Python's numeric types approximate these mathematical sets:\n",
        "- `int` ≈ ℤ\n",
        "- `float` ≈ ℝ (with limitations due to finite precision)\n",
        "- `complex` ≈ ℂ\n",
        "\n"
      ],
      "metadata": {
        "id": "tKX3VKzZTs-Z"
      }
    },
    {
      "cell_type": "markdown",
      "source": [
        "#### Example 1.1"
      ],
      "metadata": {
        "id": "4i_0X1e0dVUz"
      }
    },
    {
      "cell_type": "code",
      "execution_count": 34,
      "metadata": {
        "colab": {
          "base_uri": "https://localhost:8080/"
        },
        "id": "09HUGjWhStWF",
        "outputId": "4e99b78c-a04a-4e90-b1e5-459f872b3bd6"
      },
      "outputs": [
        {
          "output_type": "stream",
          "name": "stdout",
          "text": [
            "Carbon (atomic number 6) has a radioactive isotope: False\n",
            "Planck's constant: 6.62607015e-34 J⋅s\n",
            "Impedance: (3+4j) Ω\n"
          ]
        }
      ],
      "source": [
        "# Integer (whole numbers)\n",
        "atomic_number = 6  # Carbon\n",
        "\n",
        "# Float (decimal numbers)\n",
        "plancks_constant = 6.62607015e-34  # in J⋅s\n",
        "\n",
        "# Complex number\n",
        "impedance = 3 + 4j  # 3 + 4i in mathematical notation\n",
        "\n",
        "# String (text)\n",
        "element_name = \"Carbon\"\n",
        "\n",
        "# Boolean (True/False)\n",
        "is_radioactive = False\n",
        "\n",
        "print(f\"{element_name} (atomic number {atomic_number}) has a radioactive isotope: {is_radioactive}\")\n",
        "print(f\"Planck's constant: {plancks_constant} J⋅s\")\n",
        "print(f\"Impedance: {impedance} Ω\")"
      ]
    },
    {
      "cell_type": "markdown",
      "source": [
        "#### Exercise 1.1\n",
        "\n",
        "Define variables for mass (kg) and acceleration (m/s²) of an object, and use them to calculate force using Newton's Second Law: F = ma. Print the result with appropriate units."
      ],
      "metadata": {
        "id": "5FGDXGSlT25P"
      }
    },
    {
      "cell_type": "markdown",
      "source": [
        "##### Solution"
      ],
      "metadata": {
        "id": "NR_YIwyKfCkB"
      }
    },
    {
      "cell_type": "code",
      "source": [
        "mass = 10  # kg\n",
        "acceleration = 5  # m/s²\n",
        "\n",
        "# Calculate force\n",
        "force = mass * acceleration\n",
        "\n",
        "# Print the result with units\n",
        "print(f\"The force is {force} N\")"
      ],
      "metadata": {
        "colab": {
          "base_uri": "https://localhost:8080/"
        },
        "id": "5OBwX9JFUAx3",
        "outputId": "085ad296-88a1-4cf3-c92e-5632ffdaeb33"
      },
      "execution_count": 35,
      "outputs": [
        {
          "output_type": "stream",
          "name": "stdout",
          "text": [
            "The force is 50 N\n"
          ]
        }
      ]
    },
    {
      "cell_type": "markdown",
      "source": [
        "### 1.2 Lists, Arrays, and Vectors\n",
        "\n",
        "In mathematics, we often work with ordered collections of numbers, such as vectors and matrices. Python provides lists and NumPy arrays to represent these:\n"
      ],
      "metadata": {
        "id": "elUSOVd6UmiY"
      }
    },
    {
      "cell_type": "markdown",
      "source": [
        "#### **Mathematical Background**\n",
        "In linear algebra, a vector v in 3D space is often written as:\n",
        "\n",
        "v = (v₁, v₂, v₃) or v = v₁i + v₂j + v₃k\n",
        "\n",
        "where i, j, and k are unit vectors in the x, y, and z directions respectively.\n",
        "\n",
        "The magnitude (length) of a vector is given by:\n",
        "\n",
        "||v|| = √(v₁² + v₂² + v₃²)\n",
        "\n",
        "A unit vector u in the direction of v is given by:\n",
        "\n",
        "u = v / ||v||"
      ],
      "metadata": {
        "id": "Lwt_TVEfUwd4"
      }
    },
    {
      "cell_type": "markdown",
      "source": [
        "#### Example 1.2"
      ],
      "metadata": {
        "id": "6FQiDXv7dlWU"
      }
    },
    {
      "cell_type": "code",
      "source": [
        "import numpy as np\n",
        "\n",
        "# List of vector components\n",
        "v = [1, 2]\n",
        "\n",
        "# NumPy array (more efficient for numerical operations)\n",
        "v_array = np.array(v)\n",
        "\n",
        "# Vector operations\n",
        "magnitude = np.linalg.norm(v_array)\n",
        "unit_vector = v_array / magnitude\n",
        "\n",
        "print(f\"Vector: {v_array}\")\n",
        "print(f\"Magnitude: {magnitude}\")\n",
        "print(f\"Unit vector: {unit_vector}\")"
      ],
      "metadata": {
        "colab": {
          "base_uri": "https://localhost:8080/"
        },
        "id": "It3_kfXdUpZT",
        "outputId": "447e6f54-d354-4a9d-fb42-b67ead55d7da"
      },
      "execution_count": 36,
      "outputs": [
        {
          "output_type": "stream",
          "name": "stdout",
          "text": [
            "Vector: [1 2]\n",
            "Magnitude: 2.23606797749979\n",
            "Unit vector: [0.4472136  0.89442719]\n"
          ]
        }
      ]
    },
    {
      "cell_type": "markdown",
      "source": [
        "#### Exercise 1.2\n",
        "\n",
        "Create a list representing a 3D vector. Convert it to a NumPy array and calculate its magnitude and direction (unit vector)."
      ],
      "metadata": {
        "id": "x0Ki3AdgVS-E"
      }
    },
    {
      "cell_type": "markdown",
      "source": [
        "##### Solution"
      ],
      "metadata": {
        "id": "Q7XJo-VQfBEi"
      }
    },
    {
      "cell_type": "code",
      "source": [
        "import numpy as np\n",
        "\n",
        "# Exercise 1.2:\n",
        "vector_list = [4, 5, 6]\n",
        "\n",
        "# Convert the list to a NumPy array\n",
        "vector_array = np.array(vector_list)\n",
        "\n",
        "# Calculate the magnitude of the vector\n",
        "magnitude = np.linalg.norm(vector_array)\n",
        "\n",
        "# Calculate the unit vector (direction)\n",
        "unit_vector = vector_array / magnitude\n",
        "\n",
        "print(f\"Vector: {vector_array}\")\n",
        "print(f\"Magnitude: {magnitude}\")\n",
        "print(f\"Unit vector: {unit_vector}\")"
      ],
      "metadata": {
        "colab": {
          "base_uri": "https://localhost:8080/"
        },
        "id": "h7Coe-9XVFkr",
        "outputId": "ab608a19-5efa-4a3f-a584-357e9d2080bf"
      },
      "execution_count": 37,
      "outputs": [
        {
          "output_type": "stream",
          "name": "stdout",
          "text": [
            "Vector: [4 5 6]\n",
            "Magnitude: 8.774964387392123\n",
            "Unit vector: [0.45584231 0.56980288 0.68376346]\n"
          ]
        }
      ]
    },
    {
      "cell_type": "markdown",
      "source": [
        "## 2. Functions and Scientific Calculations"
      ],
      "metadata": {
        "id": "W0TMrFV6Vpc9"
      }
    },
    {
      "cell_type": "markdown",
      "source": [
        "### 2.1 Defining Mathematical Functions\n",
        "\n",
        "In mathematics, we define functions that map inputs to outputs. In Python, we can create such functions using the `def` keyword."
      ],
      "metadata": {
        "id": "KVIlknU2cHQi"
      }
    },
    {
      "cell_type": "markdown",
      "source": [
        "#### **Mathematical Background**\n",
        "The kinetic energy (KE) of an object is a measure of the work needed to accelerate it from rest to its current velocity. The equation for kinetic energy is:\n",
        "\n",
        "KE = 1/2 * m * v²\n",
        "\n",
        "where:\n",
        "- m is the mass of the object\n",
        "- v is the velocity of the object\n",
        "\n",
        "This equation is derived from the work-energy theorem, which states that the work done on an object is equal to the change in its kinetic energy."
      ],
      "metadata": {
        "id": "hSSYQLqfdwDH"
      }
    },
    {
      "cell_type": "markdown",
      "source": [
        "#### Example 2.1"
      ],
      "metadata": {
        "id": "uALselpGdxv7"
      }
    },
    {
      "cell_type": "code",
      "source": [
        "import math\n",
        "\n",
        "def kinetic_energy(mass, velocity):\n",
        "    \"\"\"\n",
        "    Calculate kinetic energy using E = (1/2) * m * v^2\n",
        "\n",
        "    Parameters:\n",
        "    mass (float): Mass of the object in kg\n",
        "    velocity (float): Velocity of the object in m/s\n",
        "\n",
        "    Returns:\n",
        "    float: Kinetic energy in Joules\n",
        "    \"\"\"\n",
        "    return 0.5 * mass * velocity**2\n",
        "\n",
        "# Example usage\n",
        "mass_car = 1500  # kg\n",
        "velocity_car = 20  # m/s\n",
        "\n",
        "ke_car = kinetic_energy(mass_car, velocity_car)\n",
        "print(f\"Kinetic energy of the car: {ke_car:.2f} J\")"
      ],
      "metadata": {
        "colab": {
          "base_uri": "https://localhost:8080/"
        },
        "id": "9u4he-eLVw9C",
        "outputId": "49d8aaf5-2ae7-4b5e-a655-acab5af370d5"
      },
      "execution_count": 38,
      "outputs": [
        {
          "output_type": "stream",
          "name": "stdout",
          "text": [
            "Kinetic energy of the car: 300000.00 J\n"
          ]
        }
      ]
    },
    {
      "cell_type": "markdown",
      "source": [
        "#### Exercise 2.1\n",
        "\n",
        "Write a function to calculate gravitational potential energy (PE = mgh, where m is mass, g is the acceleration due to gravity, and h is height) and use it to compute the potential energy of a book on a shelf. Then, write a function that calculates the total mechanical energy (KE + PE) of an object.\n",
        "\n",
        "1. `gravitational_potential_energy`: This function calculates the gravitational potential energy of an object.\n",
        "\n",
        "**How it works**: It takes the mass, gravity, and height of the object as inputs.\n",
        "\n",
        "**Formula**: It uses the formula `PE = mgh` to calculate the potential energy,\n",
        "\n",
        "where:\n",
        "\n",
        "`PE` is potential energy\n",
        "\n",
        "`m` is mass\n",
        "\n",
        "`g` is acceleration due to gravity\n",
        "\n",
        "`h` is height\n",
        "\n",
        "**Return value**: It returns the calculated potential energy as a float (a decimal number).\n",
        "\n",
        "2. `total_mechanical_energy`: This function calculates the total mechanical energy of an object.\n",
        "\n",
        "**How it works**: It takes the `kinetic_energy` and `potential_energy` of the object as inputs.\n",
        "**Formula**: It simply adds the kinetic and potential energies to get the total mechanical energy.\n",
        "\n",
        "**Return value**: It returns the total mechanical energy as a float."
      ],
      "metadata": {
        "id": "vJGKbBsxWAlm"
      }
    },
    {
      "cell_type": "markdown",
      "source": [
        "##### Solution"
      ],
      "metadata": {
        "id": "VXSF9x_de9fh"
      }
    },
    {
      "cell_type": "code",
      "source": [
        "def gravitational_potential_energy(mass, gravity, height):\n",
        "    \"\"\"\n",
        "    Calculate gravitational potential energy using PE = mgh.\n",
        "\n",
        "    Parameters:\n",
        "    mass (float): Mass of the object in kg.\n",
        "    gravity (float): Acceleration due to gravity (e.g., 9.81 m/s²).\n",
        "    height (float): Height of the object above a reference point in meters.\n",
        "\n",
        "    Returns:\n",
        "    float: Potential energy in Joules.\n",
        "    \"\"\"\n",
        "    return mass * gravity * height\n",
        "\n",
        "\n",
        "def total_mechanical_energy(kinetic_energy, potential_energy):\n",
        "    \"\"\"\n",
        "    Calculate the total mechanical energy of an object.\n",
        "\n",
        "    Parameters:\n",
        "    kinetic_energy (float): Kinetic energy of the object in Joules.\n",
        "    potential_energy (float): Potential energy of the object in Joules.\n",
        "\n",
        "    Returns:\n",
        "    float: Total mechanical energy in Joules.\n",
        "    \"\"\"\n",
        "    return kinetic_energy + potential_energy\n",
        "\n",
        "\n",
        "# Example usage for a book on a shelf\n",
        "mass_book = 0.5  # kg\n",
        "gravity = 9.81  # m/s²\n",
        "height_shelf = 1.5  # meters\n",
        "\n",
        "pe_book = gravitational_potential_energy(mass_book, gravity, height_shelf)\n",
        "print(f\"Potential energy of the book: {pe_book:.2f} J\")\n",
        "\n",
        "# Example usage for total mechanical energy\n",
        "ke_book = 10  # Assume the book has some kinetic energy (e.g., it's moving)\n",
        "total_energy_book = total_mechanical_energy(ke_book, pe_book)\n",
        "print(f\"Total mechanical energy of the book: {total_energy_book:.2f} J\")"
      ],
      "metadata": {
        "colab": {
          "base_uri": "https://localhost:8080/"
        },
        "id": "xhUeJH2-Vw5X",
        "outputId": "89d4db93-acca-45c7-88f7-86e6754f5493"
      },
      "execution_count": 39,
      "outputs": [
        {
          "output_type": "stream",
          "name": "stdout",
          "text": [
            "Potential energy of the book: 7.36 J\n",
            "Total mechanical energy of the book: 17.36 J\n"
          ]
        }
      ]
    },
    {
      "cell_type": "markdown",
      "source": [
        "### 2.2 Ohm's Law Calculator\n",
        "\n",
        "Let's create a more complex function that demonstrates Ohm's Law, a fundamental principle in electrical engineering"
      ],
      "metadata": {
        "id": "BFx7LpmLcRZZ"
      }
    },
    {
      "cell_type": "markdown",
      "source": [
        "#### **Mathematical Background:**\n",
        "Ohm's Law is a fundamental principle in electrical engineering that describes the relationship between voltage (V), current (I), and resistance (R) in an electrical circuit. The law is expressed as:\n",
        "\n",
        "V = I * R\n",
        "\n",
        "where:\n",
        "- V is the voltage across the conductor in volts (V)\n",
        "- I is the current through the conductor in amperes (A)\n",
        "- R is the resistance of the conductor in ohms (Ω)\n",
        "\n",
        "This law forms the basis for analyzing DC circuits and is often extended to AC circuits as well."
      ],
      "metadata": {
        "id": "A5cfAajfecUx"
      }
    },
    {
      "cell_type": "markdown",
      "source": [
        "#### Example 2.2"
      ],
      "metadata": {
        "id": "YLXl1LGbeabQ"
      }
    },
    {
      "cell_type": "code",
      "source": [
        "def ohms_law_calculator(known_values):\n",
        "    \"\"\"\n",
        "    Calculate the unknown value in Ohm's Law: V = IR\n",
        "\n",
        "    Parameters:\n",
        "    known_values (dict): A dictionary with keys 'V', 'I', and 'R'. Provide any two.\n",
        "\n",
        "    Returns:\n",
        "    dict: A dictionary with all three values (V, I, R)\n",
        "    \"\"\"\n",
        "    if len(known_values) != 2:\n",
        "        print(\"Exactly two known values are required\")\n",
        "\n",
        "    result = known_values.copy()\n",
        "\n",
        "    if 'V' not in known_values:\n",
        "        result['V'] = known_values['I'] * known_values['R']\n",
        "    elif 'I' not in known_values:\n",
        "        result['I'] = known_values['V'] / known_values['R']\n",
        "    elif 'R' not in known_values:\n",
        "        result['R'] = known_values['V'] / known_values['I']\n",
        "\n",
        "    return result\n",
        "\n",
        "# Example usage\n",
        "circuit_values = ohms_law_calculator({'V': 12, 'I': 2})\n",
        "print(f\"Circuit values: Voltage = {circuit_values['V']}V, Current = {circuit_values['I']}A, Resistance = {circuit_values['R']}Ω\")"
      ],
      "metadata": {
        "colab": {
          "base_uri": "https://localhost:8080/"
        },
        "id": "IubdSuo_cUhL",
        "outputId": "2d47a680-e2d7-47f7-b4e0-cc6afed1fce7"
      },
      "execution_count": 40,
      "outputs": [
        {
          "output_type": "stream",
          "name": "stdout",
          "text": [
            "Circuit values: Voltage = 12V, Current = 2A, Resistance = 6.0Ω\n"
          ]
        }
      ]
    },
    {
      "cell_type": "markdown",
      "source": [
        "#### Exercise 2.2\n",
        "\n",
        "Use the `ohms_law_calculator` function to solve a circuit problem with a given voltage and resistance. Then, verify your answer by calculating the power (P = VI) in the circuit. Explain how the power equation relates to Ohm's Law.\n",
        "\n",
        "**Explanation of the relationship between power and Ohm's Law**\n",
        "\n",
        "The power equation `(P = VI)` can be derived from Ohm's Law `(V = IR)`.\n",
        "By substituting `V` with `IR` in the power equation, we get:\n",
        "`P = (IR) * I = I²R`\n",
        "Or, by substituting `I` with `V/R`, we get:\n",
        "\n",
        "`P = V * (V/R) = V²/R`\n",
        "\n",
        "These equations show that power is directly proportional to the square of the current (I²R) and the square of the voltage (V²/R), and inversely proportional to the resistance (V²/R). In other words, if the current or voltage increases, the power in the circuit will increase. Conversely, if the resistance increases, the power will decrease."
      ],
      "metadata": {
        "id": "1_byKEPBcZj3"
      }
    },
    {
      "cell_type": "markdown",
      "source": [
        "##### Solution"
      ],
      "metadata": {
        "id": "74sR21PxeySq"
      }
    },
    {
      "cell_type": "code",
      "source": [
        "# Exercise 2.2:\n",
        "voltage = 10  # volts\n",
        "resistance = 5  # ohms\n",
        "\n",
        "circuit_values = ohms_law_calculator({'V': voltage, 'R': resistance})\n",
        "current = circuit_values['I']\n",
        "\n",
        "power = voltage * current\n",
        "\n",
        "print(f\"Circuit values: Voltage = {circuit_values['V']}V, Current = {circuit_values['I']}A, Resistance = {circuit_values['R']}Ω\")\n",
        "print(f\"Power in the circuit: {power}W\")"
      ],
      "metadata": {
        "colab": {
          "base_uri": "https://localhost:8080/"
        },
        "id": "S0Ist0YlcX77",
        "outputId": "322817e6-0341-4b31-93c0-315589b9e60a"
      },
      "execution_count": 41,
      "outputs": [
        {
          "output_type": "stream",
          "name": "stdout",
          "text": [
            "Circuit values: Voltage = 10V, Current = 2.0A, Resistance = 5Ω\n",
            "Power in the circuit: 20.0W\n"
          ]
        }
      ]
    },
    {
      "cell_type": "markdown",
      "source": [
        "## 3. Classes for Mathematical and Physical Modeling\n",
        "\n",
        "Object-Oriented Programming (OOP) allows us to create custom data types that can represent complex mathematical and physical concepts:\n"
      ],
      "metadata": {
        "id": "3AecegfIfIHm"
      }
    },
    {
      "cell_type": "markdown",
      "source": [
        "#### **Mathematical Background**\n",
        "In 3D space, vectors are fundamental objects that have both magnitude and direction. They are often represented as (x, y, z) in Cartesian coordinates. Key operations on vectors include:\n",
        "\n",
        "1. Magnitude: ||v|| = √(x² + y² + z²)\n",
        "2. Dot Product: a · b = a₁b₁ + a₂b₂ + a₃b₃\n",
        "3. Cross Product: a × b = (a₂b₃ - a₃b₂, a₃b₁ - a₁b₃, a₁b₂ - a₂b₁)\n",
        "\n",
        "These operations have important physical interpretations:\n",
        "- The magnitude gives the length of the vector.\n",
        "- The dot product is related to the angle between vectors and is used in calculating work done by a force.\n",
        "- The cross product gives a vector perpendicular to both input vectors and is used in calculating torque and angular momentum."
      ],
      "metadata": {
        "id": "Du5I7DMofOW7"
      }
    },
    {
      "cell_type": "markdown",
      "source": [
        "#### Example 3.1"
      ],
      "metadata": {
        "id": "HpM7yu5ofR5i"
      }
    },
    {
      "cell_type": "code",
      "source": [
        "import math\n",
        "\n",
        "class Vector3D:\n",
        "    def __init__(self, x, y, z):\n",
        "        self.x = x\n",
        "        self.y = y\n",
        "        self.z = z\n",
        "\n",
        "    def magnitude(self):\n",
        "        return math.sqrt(self.x**2 + self.y**2 + self.z**2)\n",
        "\n",
        "    def dot_product(self, other):\n",
        "        return self.x * other.x + self.y * other.y + self.z * other.z\n",
        "\n",
        "    def cross_product(self, other):\n",
        "        return Vector3D(\n",
        "            self.y * other.z - self.z * other.y,\n",
        "            self.z * other.x - self.x * other.z,\n",
        "            self.x * other.y - self.y * other.x\n",
        "        )\n",
        "\n",
        "# Example usage\n",
        "v1 = Vector3D(1, 2, 3)\n",
        "v2 = Vector3D(4, 5, 6)\n",
        "\n",
        "print(f\"Magnitude of v1: {v1.magnitude()}\")\n",
        "print(f\"Dot product of v1 and v2: {v1.dot_product(v2)}\")\n",
        "print(f\"Cross product of v1 and v2: {v1.cross_product(v2).x}, {v1.cross_product(v2).y}, {v1.cross_product(v2).z}\")"
      ],
      "metadata": {
        "colab": {
          "base_uri": "https://localhost:8080/"
        },
        "id": "M6KQGKgHfIph",
        "outputId": "f65e5bb0-0c70-41c5-8ec2-061966b22d14"
      },
      "execution_count": 42,
      "outputs": [
        {
          "output_type": "stream",
          "name": "stdout",
          "text": [
            "Magnitude of v1: 3.7416573867739413\n",
            "Dot product of v1 and v2: 32\n",
            "Cross product of v1 and v2: -3, 6, -3\n"
          ]
        }
      ]
    },
    {
      "cell_type": "markdown",
      "source": [
        "#### Exercise 3\n",
        "\n",
        "Create a `Planet` class with attributes mass, radius, and distance from the sun. Implement methods to calculate surface gravity (g = GM/r²) and orbital period (T = 2π√(r³/GM), where G is the gravitational constant and M is the mass of the sun). Create instances for Earth and Mars and compare their properties.\n",
        "\n",
        "**Explanation**\n",
        "\n",
        "\n",
        "\n",
        "1.   `class Planet:`: Think of it as a blueprint for creating planet objects.\n",
        "2.   `def __init__(self, mass, radius, distance_from_sun):`: This is a special function called a constructor. It's executed when you create a new Planet object. It takes the `mass`, `radius`, and `distance_from_sun` as input and assigns them to the object's properties (attributes). `self` refers to the object itself.\n",
        "3. `def surface_gravity(self):`: This defines a method (function within a class) to calculate the surface gravity of the planet using the formula `g = GM/r²`, where `G` is the `gravitational constant`, `M` is the `mass of the sun`, and `r` is the `planet's radius`.\n",
        "4. `def orbital_period(self):`: This method calculates the planet's orbital period using the formula `T = 2π√(r³/GM)`, where `r` is the `distance from the sun`.\n"
      ],
      "metadata": {
        "id": "NkmkZIzAfaZC"
      }
    },
    {
      "cell_type": "markdown",
      "source": [
        "##### Solution"
      ],
      "metadata": {
        "id": "hGnLyjGLfeFy"
      }
    },
    {
      "cell_type": "markdown",
      "source": [
        "**Define the `Planet` Class**"
      ],
      "metadata": {
        "id": "Ch2VpiufgJmC"
      }
    },
    {
      "cell_type": "code",
      "source": [
        "class Planet:\n",
        "    def __init__(self, mass, radius, distance_from_sun):\n",
        "        self.mass = mass\n",
        "        self.radius = radius\n",
        "        self.distance_from_sun = distance_from_sun\n",
        "\n",
        "    def surface_gravity(self):\n",
        "        G = 6.67430e-11  # Gravitational constant (m^3 kg^-1 s^-2)\n",
        "        mass_sun = 1.989e30  # Mass of the Sun (kg)\n",
        "        g = (G * mass_sun) / (self.radius ** 2)\n",
        "        return g\n",
        "\n",
        "    def orbital_period(self):\n",
        "        G = 6.67430e-11  # Gravitational constant (m^3 kg^-1 s^-2)\n",
        "        mass_sun = 1.989e30  # Mass of the Sun (kg)\n",
        "        T = 2 * np.pi * np.sqrt((self.distance_from_sun ** 3) / (G * mass_sun))\n",
        "        return T"
      ],
      "metadata": {
        "id": "5H5rnTYUfdEr"
      },
      "execution_count": 43,
      "outputs": []
    },
    {
      "cell_type": "markdown",
      "source": [
        "Create two Planet objects: earth and mars.\n",
        "The values in the parentheses are the mass, radius, and distance from the sun for each planet, respectively."
      ],
      "metadata": {
        "id": "Tw8T6qt2hNbu"
      }
    },
    {
      "cell_type": "code",
      "source": [
        "earth = Planet(5.972e24, 6371e3, 149.6e9)  # kg, m, m\n",
        "mars = Planet(6.39e23, 3389.5e3, 227.9e9)  # kg, m, m"
      ],
      "metadata": {
        "id": "TH7wsF3phPjG"
      },
      "execution_count": 44,
      "outputs": []
    },
    {
      "cell_type": "markdown",
      "source": [
        "Calculating and Printing Properties"
      ],
      "metadata": {
        "id": "pWkntW3mheSk"
      }
    },
    {
      "cell_type": "code",
      "source": [
        "earth_gravity = earth.surface_gravity()\n",
        "mars_gravity = mars.surface_gravity()\n",
        "earth_orbital_period = earth.orbital_period()\n",
        "mars_orbital_period = mars.orbital_period()\n",
        "\n",
        "print(f\"Earth's surface gravity: {earth_gravity:.2f} m/s²\")\n",
        "print(f\"Mars's surface gravity: {mars_gravity:.2f} m/s²\")\n",
        "print(f\"Earth's orbital period: {earth_orbital_period / (3600 * 24):.2f} days\")\n",
        "print(f\"Mars's orbital period: {mars_orbital_period / (3600 * 24):.2f} days\")"
      ],
      "metadata": {
        "colab": {
          "base_uri": "https://localhost:8080/"
        },
        "id": "BI_ToVluhfHO",
        "outputId": "ce0f0a4a-8181-4d1b-8d93-7752a9fc11c8"
      },
      "execution_count": 45,
      "outputs": [
        {
          "output_type": "stream",
          "name": "stdout",
          "text": [
            "Earth's surface gravity: 3270583.92 m/s²\n",
            "Mars's surface gravity: 11554980.86 m/s²\n",
            "Earth's orbital period: 365.21 days\n",
            "Mars's orbital period: 686.69 days\n"
          ]
        }
      ]
    },
    {
      "cell_type": "code",
      "source": [],
      "metadata": {
        "id": "wmKUbHmChhpR"
      },
      "execution_count": 45,
      "outputs": []
    }
  ]
}